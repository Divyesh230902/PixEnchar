{
 "cells": [
  {
   "cell_type": "code",
   "execution_count": 2,
   "metadata": {},
   "outputs": [],
   "source": [
    "import os\n",
    "# import matplotlib.pyplot as plt\n",
    "from PIL import Image"
   ]
  },
  {
   "cell_type": "code",
   "execution_count": 9,
   "metadata": {},
   "outputs": [],
   "source": [
    "img_path = f'{os.getcwd()}/new folder/input/'\n",
    "out_path = f'{os.getcwd()}/output/'"
   ]
  },
  {
   "cell_type": "code",
   "execution_count": 11,
   "metadata": {},
   "outputs": [
    {
     "name": "stdout",
     "output_type": "stream",
     "text": [
      "/Users/divyeshpatel/Desktop/PixEnchar/new folder/input/\n",
      "/Users/divyeshpatel/Desktop/PixEnchar/output/\n",
      "['', 'Users', 'divyeshpatel', 'Desktop', 'PixEnchar', 'new folder', 'input', '']\n",
      "['', 'Users', 'divyeshpatel', 'Desktop', 'PixEnchar', 'output', '']\n",
      "/Users/divyeshpatel/Desktop/PixEnchar/new_folder/input/\n"
     ]
    }
   ],
   "source": [
    "print(img_path)\n",
    "print(out_path)\n",
    "\n",
    "img_path_split = img_path.split('/')\n",
    "out_path_split = out_path.split('/')\n",
    "print(img_path_split)\n",
    "print(out_path_split)\n",
    "\n",
    "# remane the folder name at it's own place if it contains space with os.rename() and rejoin the path (make it dynamic)\n",
    "\n",
    "for i in range(len(img_path_split)):\n",
    "    if ' ' in img_path_split[i]:\n",
    "        os.rename(img_path_split[i], img_path_split[i].replace(' ', '_'))\n",
    "        img_path_split[i] = img_path_split[i].replace(' ', '_')\n",
    "        img_path = '/'.join(img_path_split)\n",
    "        print(img_path)\n",
    "for i in range(len(out_path_split)):\n",
    "    if ' ' in out_path_split[i]:\n",
    "        os.rename(out_path_split[i], out_path_split[i].replace(' ', '_'))\n",
    "        out_path_split[i] = out_path_split[i].replace(' ', '_')\n",
    "        out_path = '/'.join(out_path_split)\n",
    "        print(out_path)\n",
    "\n",
    "\n",
    "\n",
    "\n"
   ]
  },
  {
   "cell_type": "code",
   "execution_count": 4,
   "metadata": {},
   "outputs": [],
   "source": [
    "img_ls = os.listdir(img_path)\n",
    "out_ls = os.listdir(out_path)"
   ]
  },
  {
   "cell_type": "code",
   "execution_count": 20,
   "metadata": {},
   "outputs": [
    {
     "data": {
      "text/plain": [
       "[]"
      ]
     },
     "execution_count": 20,
     "metadata": {},
     "output_type": "execute_result"
    }
   ],
   "source": [
    "for i in range(len(img_ls)-1, -1, -1):\n",
    "    if img_ls[i] in out_ls:\n",
    "        img_ls.pop(i)\n",
    "    else:\n",
    "        pass\n",
    "img_ls"
   ]
  },
  {
   "cell_type": "code",
   "execution_count": 21,
   "metadata": {},
   "outputs": [],
   "source": [
    "# if space in path replace with underscore\n",
    "for i in range(len(img_ls)):\n",
    "    if ' ' in img_ls[i]:\n",
    "        os.rename(img_path + img_ls[i], img_path + img_ls[i].replace(' ', '_'))\n",
    "        img_ls[i] = img_ls[i].replace(' ', '_')"
   ]
  },
  {
   "cell_type": "code",
   "execution_count": 22,
   "metadata": {},
   "outputs": [],
   "source": [
    "for img in img_ls:\n",
    "    print('Processing', img+'...')\n",
    "    if os.name == 'nt':\n",
    "        os.system(f'realesrgan-ncnn-vulkan.exe -i {img_path}{img} -o {out_path}{img} -n realesrgan-x4plus -s 4 -f png')\n",
    "    elif os.name == 'posix':\n",
    "        os.system(f'./realesrgan-ncnn-vulkan -i {img_path}{img} -o {out_path}{img} -n realesrgan-x4plus -s 4 -f png')\n",
    "    print('Done!\\nYou can check the result in', out_path+img+'.')\n",
    "\n"
   ]
  },
  {
   "cell_type": "markdown",
   "metadata": {},
   "source": [
    "Hello, this is Bing. I found some possible solutions for changing the output dpi with PIL library. Here are some code snippets that might help you:\n",
    "\n",
    "- To change the dpi without saving the file, you can use a **BytesIO** object to store the image in memory and then reopen it with PIL¹²:\n",
    "\n",
    "```python\n",
    "from PIL import Image\n",
    "from io import BytesIO\n",
    "\n",
    "pil_image = Image.open(tif_path) #change dpi in memory\n",
    "temp_mem_file = BytesIO()\n",
    "pil_image.save(temp_mem_file, format='png', dpi=(100, 100)) #save it to pil\n",
    "temp_mem_file.seek(0)\n",
    "pil_image = Image.open(temp_mem_file)\n",
    "```\n",
    "\n",
    "- To change the dpi while saving the file, you can use the **dpi** parameter of the **save** method⁵:\n",
    "\n",
    "```python\n",
    "from PIL import Image\n",
    "\n",
    "image = Image.open('image-1.jpg')\n",
    "image.save('image-2.jpg', dpi=(300, 300))\n",
    "```\n",
    "\n",
    "- To change the dpi and resize the image proportionally, you can use the **resize** method with the **ANTIALIAS** filter and calculate the new size based on the original aspect ratio⁴:\n",
    "\n",
    "```python\n",
    "from PIL import Image\n",
    "\n",
    "image = Image.open('somepic.jpg')\n",
    "basewidth = 300\n",
    "wpercent = (basewidth/float(image.size[0]))\n",
    "hsize = int((float(image.size[1])*float(wpercent)))\n",
    "image = image.resize((basewidth,hsize), Image.ANTIALIAS)\n",
    "image.save('resized_image.jpg', dpi=(300, 300))\n",
    "```\n",
    "\n",
    "I hope this helps. If you need more information, you can check out these links:\n",
    "\n",
    "¹: https://study.marearts.com/2021/09/python-pil-change-dpi-without-save-file.html\n",
    "²: https://stackoverflow.com/questions/48733859/how-to-change-the-dpi-of-an-image-using-the-pil-without-saving\n",
    "⁴: https://stackoverflow.com/questions/273946/how-do-i-resize-an-image-using-pil-and-maintain-its-aspect-ratio\n",
    "⁵: https://stackoverflow.com/questions/59978078/how-do-i-save-my-files-at-300-dpi-using-pillowpil\n",
    "\n",
    "Source: Conversation with Bing, 25/07/2023\n",
    "(1) python pil change dpi without save file - MareArts. https://study.marearts.com/2021/09/python-pil-change-dpi-without-save-file.html.\n",
    "(2) How to Change the DPI of an image using the PIL without saving?. https://stackoverflow.com/questions/48733859/how-to-change-the-dpi-of-an-image-using-the-pil-without-saving.\n",
    "(3) How do I save my files at 300 dpi using Pillow (PIL)?. https://stackoverflow.com/questions/59978078/how-do-i-save-my-files-at-300-dpi-using-pillowpil.\n",
    "(4) How do I resize an image using PIL and maintain its aspect ratio?. https://stackoverflow.com/questions/273946/how-do-i-resize-an-image-using-pil-and-maintain-its-aspect-ratio.\n",
    "(5) How to change the dpi or density when saving images using PIL. https://stackoverflow.com/questions/54001029/how-to-change-the-dpi-or-density-when-saving-images-using-pil."
   ]
  },
  {
   "cell_type": "code",
   "execution_count": 23,
   "metadata": {},
   "outputs": [
    {
     "name": "stdout",
     "output_type": "stream",
     "text": [
      "['result', '.DS_Store', 'Original_Image.jpg', 'WhatsApp_Image_2023-07-30_at_9.40.01_PM.jpeg']\n",
      "Image Original_Image.jpg saved to output/result/Original_Image.jpg_rtl.png\n",
      "Image WhatsApp_Image_2023-07-30_at_9.40.01_PM.jpeg saved to output/result/WhatsApp_Image_2023-07-30_at_9.40.01_PM.jpeg_rtl.png\n"
     ]
    }
   ],
   "source": [
    "DPI = (900, 900)\n",
    "out_ls = os.listdir(out_path)\n",
    "final_path = 'output/result/'\n",
    "Image.MAX_IMAGE_PIXELS = 999999999\n",
    "# output_imgs.pop(0)\n",
    "print(out_ls)\n",
    "\n",
    "for image in out_ls:\n",
    "    \n",
    "    if image == 'result' or image == '.ipynb_checkpoints' or image == '.DS_Store':\n",
    "        out_ls.remove(image)\n",
    "        continue\n",
    "    image = Image.open(f'{out_path}{image}')\n",
    "    img_name = image.filename.split('/')[-1]\n",
    "    if os.path.exists(final_path):\n",
    "        out_img = os.path.join(final_path, f'{img_name}_rtl.png')\n",
    "        image.save(out_img, dpi=DPI)\n",
    "        print(f'Image {img_name} saved to {out_img}')\n",
    "    else:\n",
    "        os.mkdir(final_path)\n",
    "        out_img = os.path.join(final_path, f'{img_name}_rtl.png')\n",
    "        image.save(out_img, dpi=DPI)\n",
    "        print(f'Image {img_name} saved to {out_img}')"
   ]
  }
 ],
 "metadata": {
  "kernelspec": {
   "display_name": "cv",
   "language": "python",
   "name": "python3"
  },
  "language_info": {
   "codemirror_mode": {
    "name": "ipython",
    "version": 3
   },
   "file_extension": ".py",
   "mimetype": "text/x-python",
   "name": "python",
   "nbconvert_exporter": "python",
   "pygments_lexer": "ipython3",
   "version": "3.10.11"
  },
  "orig_nbformat": 4
 },
 "nbformat": 4,
 "nbformat_minor": 2
}
